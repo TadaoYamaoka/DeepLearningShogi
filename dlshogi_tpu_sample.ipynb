{
  "nbformat": 4,
  "nbformat_minor": 0,
  "metadata": {
    "colab": {
      "name": "dlshogi-tpu-sample.ipynb",
      "version": "0.3.2",
      "provenance": [],
      "collapsed_sections": [],
      "include_colab_link": true
    },
    "kernelspec": {
      "name": "python3",
      "display_name": "Python 3"
    },
    "accelerator": "TPU"
  },
  "cells": [
    {
      "cell_type": "markdown",
      "metadata": {
        "id": "view-in-github",
        "colab_type": "text"
      },
      "source": [
        "<a href=\"https://colab.research.google.com/github/lvisdd/DeepLearningShogi/blob/keras/dlshogi_tpu_sample.ipynb\" target=\"_parent\"><img src=\"https://colab.research.google.com/assets/colab-badge.svg\" alt=\"Open In Colab\"/></a>"
      ]
    },
    {
      "metadata": {
        "id": "WsgOnHyd468d",
        "colab_type": "code",
        "colab": {}
      },
      "cell_type": "code",
      "source": [
        "# restart (or reset) your virtual machine\n",
        "#!kill -9 -1"
      ],
      "execution_count": 0,
      "outputs": []
    },
    {
      "metadata": {
        "id": "ZgPsiswqtq8w",
        "colab_type": "code",
        "outputId": "42f94079-8337-462d-c12a-d3e4037d4a0c",
        "colab": {
          "base_uri": "https://localhost:8080/",
          "height": 125
        }
      },
      "cell_type": "code",
      "source": [
        "# Mount Google Drive\n",
        "# [Go to this URL in a browser: URL] -> Authorization Code\n",
        "# [Enter your authorization code:]\n",
        "\n",
        "from google.colab import drive\n",
        "drive.mount('/content/drive')\n"
      ],
      "execution_count": 2,
      "outputs": [
        {
          "output_type": "stream",
          "text": [
            "Go to this URL in a browser: https://accounts.google.com/o/oauth2/auth?client_id=947318989803-6bn6qk8qdgf4n4g3pfee6491hc0brc4i.apps.googleusercontent.com&redirect_uri=urn%3Aietf%3Awg%3Aoauth%3A2.0%3Aoob&scope=email%20https%3A%2F%2Fwww.googleapis.com%2Fauth%2Fdocs.test%20https%3A%2F%2Fwww.googleapis.com%2Fauth%2Fdrive%20https%3A%2F%2Fwww.googleapis.com%2Fauth%2Fdrive.photos.readonly%20https%3A%2F%2Fwww.googleapis.com%2Fauth%2Fpeopleapi.readonly&response_type=code\n",
            "\n",
            "Enter your authorization code:\n",
            "··········\n",
            "Mounted at /content/drive\n"
          ],
          "name": "stdout"
        }
      ]
    },
    {
      "metadata": {
        "id": "4zTaoTlgXcY1",
        "colab_type": "code",
        "outputId": "c2784d6b-69cc-454a-f2e8-79a436e3142b",
        "colab": {
          "base_uri": "https://localhost:8080/",
          "height": 34
        }
      },
      "cell_type": "code",
      "source": [
        "!python --version"
      ],
      "execution_count": 3,
      "outputs": [
        {
          "output_type": "stream",
          "text": [
            "Python 3.6.7\n"
          ],
          "name": "stdout"
        }
      ]
    },
    {
      "metadata": {
        "id": "DVD71tdtfSRD",
        "colab_type": "code",
        "outputId": "02a48794-9e64-40cb-a02d-c5c19dfe213c",
        "colab": {
          "base_uri": "https://localhost:8080/",
          "height": 5878
        }
      },
      "cell_type": "code",
      "source": [
        "!pip list"
      ],
      "execution_count": 4,
      "outputs": [
        {
          "output_type": "stream",
          "text": [
            "Package                  Version              \n",
            "------------------------ ---------------------\n",
            "absl-py                  0.6.1                \n",
            "alabaster                0.7.12               \n",
            "albumentations           0.1.8                \n",
            "altair                   2.3.0                \n",
            "astor                    0.7.1                \n",
            "astropy                  3.0.5                \n",
            "atari-py                 0.1.7                \n",
            "atomicwrites             1.2.1                \n",
            "attrs                    18.2.0               \n",
            "audioread                2.1.6                \n",
            "autograd                 1.2                  \n",
            "Babel                    2.6.0                \n",
            "backports.tempfile       1.0                  \n",
            "backports.weakref        1.0.post1            \n",
            "beautifulsoup4           4.6.3                \n",
            "bleach                   3.0.2                \n",
            "bokeh                    1.0.2                \n",
            "boto                     2.49.0               \n",
            "boto3                    1.9.67               \n",
            "botocore                 1.12.67              \n",
            "bs4                      0.0.1                \n",
            "bz2file                  0.98                 \n",
            "cachetools               3.0.0                \n",
            "certifi                  2018.11.29           \n",
            "cffi                     1.11.5               \n",
            "chainer                  5.0.0                \n",
            "chardet                  3.0.4                \n",
            "Click                    7.0                  \n",
            "cloudpickle              0.6.1                \n",
            "cmake                    3.12.0               \n",
            "colorlover               0.2.1                \n",
            "community                1.0.0b1              \n",
            "contextlib2              0.5.5                \n",
            "coverage                 3.7.1                \n",
            "coveralls                0.5                  \n",
            "crcmod                   1.7                  \n",
            "cufflinks                0.14.6               \n",
            "cvxopt                   1.2.2                \n",
            "cvxpy                    1.0.11               \n",
            "cycler                   0.10.0               \n",
            "cymem                    2.0.2                \n",
            "Cython                   0.29.2               \n",
            "cytoolz                  0.9.0.1              \n",
            "daft                     0.0.4                \n",
            "dask                     0.20.2               \n",
            "datascience              0.10.6               \n",
            "decorator                4.3.0                \n",
            "defusedxml               0.5.0                \n",
            "dill                     0.2.8.2              \n",
            "distributed              1.25.1               \n",
            "Django                   2.1.4                \n",
            "dlib                     19.16.0              \n",
            "dm-sonnet                1.23                 \n",
            "docopt                   0.6.2                \n",
            "docutils                 0.14                 \n",
            "dopamine-rl              1.0.5                \n",
            "easydict                 1.9                  \n",
            "ecos                     2.0.7.post1          \n",
            "editdistance             0.5.2                \n",
            "en-core-web-sm           2.0.0                \n",
            "entrypoints              0.2.3                \n",
            "et-xmlfile               1.0.1                \n",
            "fa2                      0.2                  \n",
            "fancyimpute              0.4.2                \n",
            "fastcache                1.0.2                \n",
            "fastdtw                  0.3.2                \n",
            "fastrlock                0.4                  \n",
            "fbprophet                0.3.post2            \n",
            "featuretools             0.4.1                \n",
            "filelock                 3.0.10               \n",
            "fix-yahoo-finance        0.0.22               \n",
            "Flask                    1.0.2                \n",
            "folium                   0.2.1                \n",
            "future                   0.16.0               \n",
            "gast                     0.2.0                \n",
            "GDAL                     2.2.2                \n",
            "gdown                    3.6.0                \n",
            "gensim                   3.6.0                \n",
            "geographiclib            1.49                 \n",
            "geopy                    1.17.0               \n",
            "gevent                   1.3.7                \n",
            "gin-config               0.1.2                \n",
            "glob2                    0.6                  \n",
            "google                   2.0.1                \n",
            "google-api-core          1.7.0                \n",
            "google-api-python-client 1.6.7                \n",
            "google-auth              1.4.2                \n",
            "google-auth-httplib2     0.0.3                \n",
            "google-auth-oauthlib     0.2.0                \n",
            "google-cloud-bigquery    1.1.0                \n",
            "google-cloud-core        0.28.1               \n",
            "google-cloud-language    1.0.2                \n",
            "google-cloud-storage     1.8.0                \n",
            "google-cloud-translate   1.3.2                \n",
            "google-colab             0.0.1a1              \n",
            "google-resumable-media   0.3.1                \n",
            "googleapis-common-protos 1.5.5                \n",
            "googledrivedownloader    0.3                  \n",
            "graph-nets               1.0.2                \n",
            "graphviz                 0.10.1               \n",
            "greenlet                 0.4.15               \n",
            "grpcio                   1.15.0               \n",
            "gspread                  3.0.1                \n",
            "gspread-dataframe        3.0.2                \n",
            "gunicorn                 19.9.0               \n",
            "gym                      0.10.9               \n",
            "h5py                     2.8.0                \n",
            "HeapDict                 1.0.0                \n",
            "html5lib                 1.0.1                \n",
            "httpimport               0.5.16               \n",
            "httplib2                 0.11.3               \n",
            "humanize                 0.5.1                \n",
            "hyperopt                 0.1.1                \n",
            "ideep4py                 2.0.0.post3          \n",
            "idna                     2.6                  \n",
            "image                    1.5.27               \n",
            "imageio                  2.4.1                \n",
            "imagesize                1.1.0                \n",
            "imbalanced-learn         0.4.3                \n",
            "imblearn                 0.0                  \n",
            "imgaug                   0.2.6                \n",
            "imutils                  0.5.2                \n",
            "inflect                  2.1.0                \n",
            "intel-openmp             2019.0               \n",
            "intervaltree             2.1.0                \n",
            "ipykernel                4.6.1                \n",
            "ipython                  5.5.0                \n",
            "ipython-genutils         0.2.0                \n",
            "ipython-sql              0.3.9                \n",
            "ipywidgets               7.4.2                \n",
            "itsdangerous             1.1.0                \n",
            "jdcal                    1.4                  \n",
            "jieba                    0.39                 \n",
            "Jinja2                   2.10                 \n",
            "jmespath                 0.9.3                \n",
            "joblib                   0.13.0               \n",
            "jpeg4py                  0.1.4                \n",
            "jsonschema               2.6.0                \n",
            "jupyter                  1.0.0                \n",
            "jupyter-client           5.2.4                \n",
            "jupyter-console          6.0.0                \n",
            "jupyter-core             4.4.0                \n",
            "kaggle                   1.5.1.1              \n",
            "kapre                    0.1.3.1              \n",
            "Keras                    2.2.4                \n",
            "Keras-Applications       1.0.6                \n",
            "Keras-Preprocessing      1.0.5                \n",
            "keras-vis                0.4.1                \n",
            "knnimpute                0.1.0                \n",
            "librosa                  0.6.2                \n",
            "lightgbm                 2.2.2                \n",
            "llvmlite                 0.26.0               \n",
            "lmdb                     0.94                 \n",
            "lucid                    0.3.6                \n",
            "lxml                     4.2.5                \n",
            "magenta                  0.3.19               \n",
            "Markdown                 3.0.1                \n",
            "MarkupSafe               1.1.0                \n",
            "matplotlib               2.1.2                \n",
            "matplotlib-venn          0.11.5               \n",
            "mesh-tensorflow          0.0.5                \n",
            "mido                     1.2.6                \n",
            "mir-eval                 0.5                  \n",
            "missingno                0.4.1                \n",
            "mistune                  0.8.4                \n",
            "mkl                      2019.0               \n",
            "mlxtend                  0.14.0               \n",
            "more-itertools           4.3.0                \n",
            "moviepy                  0.2.3.5              \n",
            "mpi4py                   3.0.0                \n",
            "mpmath                   1.1.0                \n",
            "msgpack                  0.5.6                \n",
            "msgpack-numpy            0.4.3.2              \n",
            "multiprocess             0.70.6.1             \n",
            "multitasking             0.0.7                \n",
            "murmurhash               1.0.1                \n",
            "music21                  5.5.0                \n",
            "natsort                  5.5.0                \n",
            "nbconvert                5.4.0                \n",
            "nbformat                 4.4.0                \n",
            "networkx                 2.2                  \n",
            "nibabel                  2.3.1                \n",
            "nltk                     3.2.5                \n",
            "nose                     1.3.7                \n",
            "notebook                 5.2.2                \n",
            "np-utils                 0.5.7.0              \n",
            "numba                    0.40.1               \n",
            "numexpr                  2.6.8                \n",
            "numpy                    1.14.6               \n",
            "oauth2client             4.1.3                \n",
            "oauthlib                 2.1.0                \n",
            "okgrade                  0.4.3                \n",
            "olefile                  0.46                 \n",
            "opencv-contrib-python    3.4.3.18             \n",
            "opencv-python            3.4.4.19             \n",
            "openpyxl                 2.5.9                \n",
            "osqp                     0.5.0                \n",
            "packaging                18.0                 \n",
            "pandas                   0.22.0               \n",
            "pandas-datareader        0.7.0                \n",
            "pandas-gbq               0.4.1                \n",
            "pandas-profiling         1.4.1                \n",
            "pandocfilters            1.4.2                \n",
            "pathlib                  1.0.1                \n",
            "patsy                    0.5.1                \n",
            "pexpect                  4.6.0                \n",
            "pickleshare              0.7.5                \n",
            "Pillow                   4.0.0                \n",
            "pip                      18.1                 \n",
            "plac                     0.9.6                \n",
            "plotly                   1.12.12              \n",
            "pluggy                   0.8.0                \n",
            "portpicker               1.2.0                \n",
            "prefetch-generator       1.0.1                \n",
            "preshed                  2.0.1                \n",
            "pretty-midi              0.2.8                \n",
            "prettytable              0.7.2                \n",
            "progressbar2             3.38.0               \n",
            "promise                  2.2.1                \n",
            "prompt-toolkit           1.0.15               \n",
            "protobuf                 3.6.1                \n",
            "psutil                   5.4.8                \n",
            "psycopg2                 2.7.6.1              \n",
            "ptyprocess               0.6.0                \n",
            "py                       1.7.0                \n",
            "pyasn1                   0.4.4                \n",
            "pyasn1-modules           0.2.2                \n",
            "pycocotools              2.0.0                \n",
            "pycparser                2.19                 \n",
            "pydot                    1.3.0                \n",
            "pydot-ng                 2.0.0                \n",
            "pydotplus                2.0.2                \n",
            "pyemd                    0.5.1                \n",
            "pyglet                   1.3.2                \n",
            "Pygments                 2.1.3                \n",
            "pygobject                3.26.1               \n",
            "pymc3                    3.5                  \n",
            "pymongo                  3.7.2                \n",
            "pymystem3                0.2.0                \n",
            "PyOpenGL                 3.1.0                \n",
            "pyparsing                2.3.0                \n",
            "pysndfile                1.3.2                \n",
            "PySocks                  1.6.8                \n",
            "pystache                 0.5.4                \n",
            "pystan                   2.18.0.0             \n",
            "pytest                   3.10.1               \n",
            "python-apt               1.6.3                \n",
            "python-chess             0.23.11              \n",
            "python-dateutil          2.5.3                \n",
            "python-louvain           0.11                 \n",
            "python-rtmidi            1.1.2                \n",
            "python-slugify           1.2.6                \n",
            "python-utils             2.3.0                \n",
            "pytz                     2018.7               \n",
            "PyWavelets               1.0.1                \n",
            "PyYAML                   3.13                 \n",
            "pyzmq                    17.0.0               \n",
            "qtconsole                4.4.3                \n",
            "regex                    2018.1.10            \n",
            "requests                 2.18.4               \n",
            "requests-oauthlib        1.0.0                \n",
            "resampy                  0.2.1                \n",
            "rsa                      4.0                  \n",
            "s3fs                     0.2.0                \n",
            "s3transfer               0.1.13               \n",
            "scikit-image             0.13.1               \n",
            "scikit-learn             0.20.1               \n",
            "scipy                    1.1.0                \n",
            "screen-resolution-extra  0.0.0                \n",
            "scs                      2.0.2                \n",
            "seaborn                  0.7.1                \n",
            "setuptools               40.6.3               \n",
            "simplegeneric            0.8.1                \n",
            "six                      1.11.0               \n",
            "sklearn                  0.0                  \n",
            "smart-open               1.7.1                \n",
            "snowballstemmer          1.2.1                \n",
            "sortedcontainers         2.1.0                \n",
            "spacy                    2.0.18               \n",
            "Sphinx                   1.8.2                \n",
            "sphinxcontrib-websupport 1.1.0                \n",
            "SQLAlchemy               1.2.15               \n",
            "sqlparse                 0.2.4                \n",
            "stable-baselines         2.2.1                \n",
            "statsmodels              0.8.0                \n",
            "sympy                    1.1.1                \n",
            "tables                   3.4.4                \n",
            "tabulate                 0.8.2                \n",
            "tblib                    1.3.2                \n",
            "tensor2tensor            1.11.0               \n",
            "tensorboard              1.12.1               \n",
            "tensorboardcolab         0.0.22               \n",
            "tensorflow               1.12.0               \n",
            "tensorflow-hub           0.2.0                \n",
            "tensorflow-metadata      0.9.0                \n",
            "tensorflow-probability   0.5.0                \n",
            "termcolor                1.1.0                \n",
            "terminado                0.8.1                \n",
            "testpath                 0.4.2                \n",
            "textblob                 0.15.2               \n",
            "textgenrnn               1.4.1                \n",
            "tfds-nightly             0.0.2.dev201812180014\n",
            "tflearn                  0.3.2                \n",
            "Theano                   1.0.3                \n",
            "thinc                    6.12.1               \n",
            "toolz                    0.9.0                \n",
            "tornado                  4.5.3                \n",
            "tqdm                     4.28.1               \n",
            "traitlets                4.3.2                \n",
            "tweepy                   3.6.0                \n",
            "ujson                    1.35                 \n",
            "umap-learn               0.3.7                \n",
            "Unidecode                1.0.23               \n",
            "uritemplate              3.0.0                \n",
            "urllib3                  1.22                 \n",
            "vega-datasets            0.7.0                \n",
            "wcwidth                  0.1.7                \n",
            "webencodings             0.5.1                \n",
            "Werkzeug                 0.14.1               \n",
            "wheel                    0.32.3               \n",
            "widgetsnbextension       3.4.2                \n",
            "wordcloud                1.5.0                \n",
            "wrapt                    1.10.11              \n",
            "xarray                   0.11.0               \n",
            "xgboost                  0.7.post4            \n",
            "xkit                     0.0.0                \n",
            "xlrd                     1.1.0                \n",
            "xlwt                     1.3.0                \n",
            "yellowbrick              0.9                  \n",
            "zict                     0.1.3                \n",
            "zmq                      0.0.0                \n"
          ],
          "name": "stdout"
        }
      ]
    },
    {
      "metadata": {
        "id": "pQUJQbuAjMVA",
        "colab_type": "code",
        "colab": {
          "base_uri": "https://localhost:8080/",
          "height": 650
        },
        "outputId": "c2bba871-e2e1-45f7-ba4c-96845cb57da9"
      },
      "cell_type": "code",
      "source": [
        "!pip install tensorflow==1.11.0"
      ],
      "execution_count": 5,
      "outputs": [
        {
          "output_type": "stream",
          "text": [
            "Collecting tensorflow==1.11.0\n",
            "\u001b[?25l  Downloading https://files.pythonhosted.org/packages/ce/d5/38cd4543401708e64c9ee6afa664b936860f4630dd93a49ab863f9998cd2/tensorflow-1.11.0-cp36-cp36m-manylinux1_x86_64.whl (63.0MB)\n",
            "\u001b[K    100% |████████████████████████████████| 63.0MB 475kB/s \n",
            "\u001b[?25hRequirement already satisfied: protobuf>=3.6.0 in /usr/local/lib/python3.6/dist-packages (from tensorflow==1.11.0) (3.6.1)\n",
            "Requirement already satisfied: keras-applications>=1.0.5 in /usr/local/lib/python3.6/dist-packages (from tensorflow==1.11.0) (1.0.6)\n",
            "Requirement already satisfied: astor>=0.6.0 in /usr/local/lib/python3.6/dist-packages (from tensorflow==1.11.0) (0.7.1)\n",
            "Requirement already satisfied: absl-py>=0.1.6 in /usr/local/lib/python3.6/dist-packages (from tensorflow==1.11.0) (0.6.1)\n",
            "Collecting tensorboard<1.12.0,>=1.11.0 (from tensorflow==1.11.0)\n",
            "\u001b[?25l  Downloading https://files.pythonhosted.org/packages/9b/2f/4d788919b1feef04624d63ed6ea45a49d1d1c834199ec50716edb5d310f4/tensorboard-1.11.0-py3-none-any.whl (3.0MB)\n",
            "\u001b[K    100% |████████████████████████████████| 3.0MB 9.0MB/s \n",
            "\u001b[?25hRequirement already satisfied: gast>=0.2.0 in /usr/local/lib/python3.6/dist-packages (from tensorflow==1.11.0) (0.2.0)\n",
            "Requirement already satisfied: grpcio>=1.8.6 in /usr/local/lib/python3.6/dist-packages (from tensorflow==1.11.0) (1.15.0)\n",
            "Collecting setuptools<=39.1.0 (from tensorflow==1.11.0)\n",
            "\u001b[?25l  Downloading https://files.pythonhosted.org/packages/8c/10/79282747f9169f21c053c562a0baa21815a8c7879be97abd930dbcf862e8/setuptools-39.1.0-py2.py3-none-any.whl (566kB)\n",
            "\u001b[K    100% |████████████████████████████████| 573kB 17.6MB/s \n",
            "\u001b[?25hRequirement already satisfied: termcolor>=1.1.0 in /usr/local/lib/python3.6/dist-packages (from tensorflow==1.11.0) (1.1.0)\n",
            "Requirement already satisfied: wheel>=0.26 in /usr/local/lib/python3.6/dist-packages (from tensorflow==1.11.0) (0.32.3)\n",
            "Requirement already satisfied: keras-preprocessing>=1.0.3 in /usr/local/lib/python3.6/dist-packages (from tensorflow==1.11.0) (1.0.5)\n",
            "Requirement already satisfied: six>=1.10.0 in /usr/local/lib/python3.6/dist-packages (from tensorflow==1.11.0) (1.11.0)\n",
            "Requirement already satisfied: numpy>=1.13.3 in /usr/local/lib/python3.6/dist-packages (from tensorflow==1.11.0) (1.14.6)\n",
            "Requirement already satisfied: h5py in /usr/local/lib/python3.6/dist-packages (from keras-applications>=1.0.5->tensorflow==1.11.0) (2.8.0)\n",
            "Requirement already satisfied: werkzeug>=0.11.10 in /usr/local/lib/python3.6/dist-packages (from tensorboard<1.12.0,>=1.11.0->tensorflow==1.11.0) (0.14.1)\n",
            "Requirement already satisfied: markdown>=2.6.8 in /usr/local/lib/python3.6/dist-packages (from tensorboard<1.12.0,>=1.11.0->tensorflow==1.11.0) (3.0.1)\n",
            "\u001b[31mmagenta 0.3.19 has requirement tensorflow>=1.12.0, but you'll have tensorflow 1.11.0 which is incompatible.\u001b[0m\n",
            "\u001b[31mcufflinks 0.14.6 has requirement plotly>=3.0.0, but you'll have plotly 1.12.12 which is incompatible.\u001b[0m\n",
            "Installing collected packages: tensorboard, setuptools, tensorflow\n",
            "  Found existing installation: tensorboard 1.12.1\n",
            "    Uninstalling tensorboard-1.12.1:\n",
            "      Successfully uninstalled tensorboard-1.12.1\n",
            "  Found existing installation: setuptools 40.6.3\n",
            "    Uninstalling setuptools-40.6.3:\n",
            "      Successfully uninstalled setuptools-40.6.3\n",
            "  Found existing installation: tensorflow 1.12.0\n",
            "    Uninstalling tensorflow-1.12.0:\n",
            "      Successfully uninstalled tensorflow-1.12.0\n",
            "Successfully installed setuptools-39.1.0 tensorboard-1.11.0 tensorflow-1.11.0\n"
          ],
          "name": "stdout"
        }
      ]
    },
    {
      "metadata": {
        "id": "aLe-4CMCvVRw",
        "colab_type": "code",
        "outputId": "320c0156-ccb5-4ed2-c275-493d28f52b3c",
        "colab": {
          "base_uri": "https://localhost:8080/",
          "height": 281
        }
      },
      "cell_type": "code",
      "source": [
        "%cd\n",
        "!mkdir -p floodgate\n",
        "%cd floodgate\n",
        "# !wget http://iij.dl.osdn.jp/shogi-server/60964/wdoor2008.7z\n",
        "# !wget http://iij.dl.osdn.jp/shogi-server/60963/wdoor2009.7z\n",
        "# !wget http://iij.dl.osdn.jp/shogi-server/60962/wdoor2010.7z\n",
        "# !wget http://iij.dl.osdn.jp/shogi-server/60961/wdoor2011.7z\n",
        "# !wget http://iij.dl.osdn.jp/shogi-server/60960/wdoor2012.7z\n",
        "# !wget http://iij.dl.osdn.jp/shogi-server/60957/wdoor2013.7z\n",
        "# !wget http://iij.dl.osdn.jp/shogi-server/62552/wdoor2014.7z\n",
        "# !wget http://iij.dl.osdn.jp/shogi-server/66066/wdoor2015.7z\n",
        "!wget http://iij.dl.osdn.jp/shogi-server/68500/wdoor2016.7z\n",
        "# !wget http://wdoor.c.u-tokyo.ac.jp/shogi/x/wdoor2017.7z\n",
        "# !wget http://wdoor.c.u-tokyo.ac.jp/shogi/x/wdoor2018.7z\n",
        "!ls -l"
      ],
      "execution_count": 6,
      "outputs": [
        {
          "output_type": "stream",
          "text": [
            "/root\n",
            "/root/floodgate\n",
            "--2018-12-25 13:55:31--  http://iij.dl.osdn.jp/shogi-server/68500/wdoor2016.7z\n",
            "Resolving iij.dl.osdn.jp (iij.dl.osdn.jp)... 202.232.140.70, 2001:240:bb8f::1:70\n",
            "Connecting to iij.dl.osdn.jp (iij.dl.osdn.jp)|202.232.140.70|:80... connected.\n",
            "HTTP request sent, awaiting response... 200 OK\n",
            "Length: 227802443 (217M) [application/octet-stream]\n",
            "Saving to: ‘wdoor2016.7z’\n",
            "\n",
            "wdoor2016.7z        100%[===================>] 217.25M  19.4MB/s    in 19s     \n",
            "\n",
            "2018-12-25 13:55:51 (11.3 MB/s) - ‘wdoor2016.7z’ saved [227802443/227802443]\n",
            "\n",
            "total 222464\n",
            "-rw-r--r-- 1 root root 227802443 Oct 12  2017 wdoor2016.7z\n"
          ],
          "name": "stdout"
        }
      ]
    },
    {
      "metadata": {
        "id": "KwuXqORxyjlZ",
        "colab_type": "code",
        "colab": {}
      },
      "cell_type": "code",
      "source": [
        "# !7z x wdoor2008.7z > /dev/null 2>&1\n",
        "# !7z x wdoor2009.7z > /dev/null 2>&1\n",
        "# !7z x wdoor2010.7z > /dev/null 2>&1\n",
        "# !7z x wdoor2011.7z > /dev/null 2>&1\n",
        "# !7z x wdoor2012.7z > /dev/null 2>&1\n",
        "# !7z x wdoor2013.7z > /dev/null 2>&1\n",
        "# !7z x wdoor2014.7z > /dev/null 2>&1\n",
        "# !7z x wdoor2015.7z > /dev/null 2>&1\n",
        "!7z x wdoor2016.7z > /dev/null 2>&1\n",
        "# !7z x wdoor2017.7z > /dev/null 2>&1\n",
        "# !7z x wdoor2018.7z > /dev/null 2>&1\n"
      ],
      "execution_count": 0,
      "outputs": []
    },
    {
      "metadata": {
        "id": "wfkvb3P18Bab",
        "colab_type": "code",
        "outputId": "a4caa573-ee83-4cce-915e-1a087cc5b789",
        "colab": {
          "base_uri": "https://localhost:8080/",
          "height": 158
        }
      },
      "cell_type": "code",
      "source": [
        "%cd\n",
        "#!git clone https://github.com/TadaoYamaoka/DeepLearningShogi.git\n",
        "!git clone https://github.com/lvisdd/DeepLearningShogi.git"
      ],
      "execution_count": 8,
      "outputs": [
        {
          "output_type": "stream",
          "text": [
            "/root\n",
            "Cloning into 'DeepLearningShogi'...\n",
            "remote: Enumerating objects: 18, done.\u001b[K\n",
            "remote: Counting objects: 100% (18/18), done.\u001b[K\n",
            "remote: Compressing objects: 100% (10/10), done.\u001b[K\n",
            "remote: Total 2524 (delta 8), reused 15 (delta 8), pack-reused 2506\u001b[K\n",
            "Receiving objects: 100% (2524/2524), 171.36 MiB | 29.88 MiB/s, done.\n",
            "Resolving deltas: 100% (1810/1810), done.\n"
          ],
          "name": "stdout"
        }
      ]
    },
    {
      "metadata": {
        "id": "BHUWJwIwA2xV",
        "colab_type": "code",
        "outputId": "d8ed8432-b8ae-48e9-8114-be18aa80d740",
        "colab": {
          "base_uri": "https://localhost:8080/",
          "height": 34
        }
      },
      "cell_type": "code",
      "source": [
        "%cd ~/DeepLearningShogi"
      ],
      "execution_count": 9,
      "outputs": [
        {
          "output_type": "stream",
          "text": [
            "/root/DeepLearningShogi\n"
          ],
          "name": "stdout"
        }
      ]
    },
    {
      "metadata": {
        "id": "Ykn7PjwQAJsN",
        "colab_type": "code",
        "outputId": "e7448fa8-af91-411b-8a58-7e6fd5addba8",
        "colab": {
          "base_uri": "https://localhost:8080/",
          "height": 140
        }
      },
      "cell_type": "code",
      "source": [
        "!git branch -a"
      ],
      "execution_count": 10,
      "outputs": [
        {
          "output_type": "stream",
          "text": [
            "* \u001b[32mmaster\u001b[m\n",
            "  \u001b[31mremotes/origin/HEAD\u001b[m -> origin/master\n",
            "  \u001b[31mremotes/origin/chainer\u001b[m\n",
            "  \u001b[31mremotes/origin/keras\u001b[m\n",
            "  \u001b[31mremotes/origin/leaf_search\u001b[m\n",
            "  \u001b[31mremotes/origin/master\u001b[m\n",
            "  \u001b[31mremotes/origin/tanh\u001b[m\n"
          ],
          "name": "stdout"
        }
      ]
    },
    {
      "metadata": {
        "id": "EPa0hwy_am9a",
        "colab_type": "code",
        "outputId": "3bf9a346-853a-4a35-b22e-6f4bb5bcc445",
        "colab": {
          "base_uri": "https://localhost:8080/",
          "height": 246
        }
      },
      "cell_type": "code",
      "source": [
        "!git checkout remotes/origin/keras"
      ],
      "execution_count": 11,
      "outputs": [
        {
          "output_type": "stream",
          "text": [
            "Checking out files: 100% (215/215), done.\n",
            "Note: checking out 'remotes/origin/keras'.\n",
            "\n",
            "You are in 'detached HEAD' state. You can look around, make experimental\n",
            "changes and commit them, and you can discard any commits you make in this\n",
            "state without impacting any branches by performing another checkout.\n",
            "\n",
            "If you want to create a new branch to retain commits you create, you may\n",
            "do so (now or later) by using -b with the checkout command again. Example:\n",
            "\n",
            "  git checkout -b <new-branch-name>\n",
            "\n",
            "HEAD is now at 08de20e pydlshogiを移植\n"
          ],
          "name": "stdout"
        }
      ]
    },
    {
      "metadata": {
        "id": "46xulVekYyzi",
        "colab_type": "code",
        "outputId": "8e3c8ae7-827a-49e5-b137-7399cd5d9254",
        "colab": {
          "base_uri": "https://localhost:8080/",
          "height": 34
        }
      },
      "cell_type": "code",
      "source": [
        "!ls -l ./utils/filter_csa_in_dir.py"
      ],
      "execution_count": 12,
      "outputs": [
        {
          "output_type": "stream",
          "text": [
            "-rw-r--r-- 1 root root 1285 Dec 25 14:27 ./utils/filter_csa_in_dir.py\n"
          ],
          "name": "stdout"
        }
      ]
    },
    {
      "metadata": {
        "id": "sAEesDo08mB1",
        "colab_type": "code",
        "outputId": "4ef99192-3f18-4cb2-804a-4db105324161",
        "colab": {
          "base_uri": "https://localhost:8080/",
          "height": 122
        }
      },
      "cell_type": "code",
      "source": [
        "#!python ./utils/filter_csa_in_dir.py ~/floodgate/2008\n",
        "#!python ./utils/filter_csa_in_dir.py ~/floodgate/2009\n",
        "#!python ./utils/filter_csa_in_dir.py ~/floodgate/2010\n",
        "#!python ./utils/filter_csa_in_dir.py ~/floodgate/2011\n",
        "#!python ./utils/filter_csa_in_dir.py ~/floodgate/2012\n",
        "#!python ./utils/filter_csa_in_dir.py ~/floodgate/2013\n",
        "#!python ./utils/filter_csa_in_dir.py ~/floodgate/2014\n",
        "#!python ./utils/filter_csa_in_dir.py ~/floodgate/2015\n",
        "!python ./utils/filter_csa_in_dir.py ~/floodgate/2016\n",
        "#!python ./utils/filter_csa_in_dir.py ~/floodgate/2017\n",
        "#!python ./utils/filter_csa_in_dir.py ~/floodgate/2018\n",
        "#!python ./utils/filter_csa_in_dir.py ~/floodgate/\n"
      ],
      "execution_count": 13,
      "outputs": [
        {
          "output_type": "stream",
          "text": [
            "kifu count : 14230\n",
            "rate mean : 3228.2081517919887\n",
            "rate median : 3215.0\n",
            "rate max : 3825.0\n",
            "rate min : 3000.0\n",
            "<matplotlib.figure.Figure at 0x7f3790253b00>\n"
          ],
          "name": "stdout"
        }
      ]
    },
    {
      "metadata": {
        "id": "_xXQV1GicHc5",
        "colab_type": "code",
        "colab": {}
      },
      "cell_type": "code",
      "source": [
        "#!python ./utils/prepare_kifu_list.py ~/floodgate/2015 kifulist\n",
        "!python ./utils/prepare_kifu_list.py ~/floodgate/2016 kifulist\n",
        "#!python ./utils/prepare_kifu_list.py ~/floodgate/2017 kifulist\n",
        "#!python ./utils/prepare_kifu_list.py ~/floodgate/2018 kifulist\n",
        "#!python ./utils/prepare_kifu_list.py ~/floodgate kifulist"
      ],
      "execution_count": 0,
      "outputs": []
    },
    {
      "metadata": {
        "id": "0u17IOrtcdbj",
        "colab_type": "code",
        "colab": {
          "base_uri": "https://localhost:8080/",
          "height": 298
        },
        "outputId": "ab432785-ab23-4da2-e8c6-4212d3c72c59"
      },
      "cell_type": "code",
      "source": [
        "!ls -l"
      ],
      "execution_count": 15,
      "outputs": [
        {
          "output_type": "stream",
          "text": [
            "total 1408\n",
            "drwxr-xr-x 2 root root    4096 Dec 25 14:27 bat\n",
            "-rw-r--r-- 1 root root    3111 Dec 25 14:27 DeepLearningShogi.pyproj\n",
            "-rw-r--r-- 1 root root     816 Dec 25 14:27 DeepLearningShogi.sln\n",
            "drwxr-xr-x 6 root root    4096 Dec 25 14:27 dlshogi\n",
            "-rw-r--r-- 1 root root  136614 Dec 25 14:28 kifulist_test.txt\n",
            "-rw-r--r-- 1 root root 1232477 Dec 25 14:28 kifulist_train.txt\n",
            "drwxr-xr-x 2 root root    4096 Dec 25 14:27 model\n",
            "drwxr-xr-x 2 root root    4096 Dec 25 14:27 old\n",
            "-rw-r--r-- 1 root root    2970 Dec 25 14:27 README.md\n",
            "-rw-r--r-- 1 root root     154 Dec 25 14:27 setup.py\n",
            "-rw-r--r-- 1 root root    4408 Dec 25 14:27 train_policy.py\n",
            "-rw-r--r-- 1 root root    4717 Dec 25 14:27 train_policy_value.py\n",
            "-rw-r--r-- 1 root root    4781 Dec 25 14:27 train_policy_value_resnet.py\n",
            "-rw-r--r-- 1 root root    4377 Dec 25 14:27 train_value.py\n",
            "drwxr-xr-x 2 root root    4096 Dec 25 14:27 utils\n"
          ],
          "name": "stdout"
        }
      ]
    },
    {
      "metadata": {
        "id": "fMCBCgydc3Uy",
        "colab_type": "code",
        "colab": {
          "base_uri": "https://localhost:8080/",
          "height": 175
        },
        "outputId": "86fa564c-d00d-4cb1-b8de-226f375e46c1"
      },
      "cell_type": "code",
      "source": [
        "!pip install python-shogi"
      ],
      "execution_count": 16,
      "outputs": [
        {
          "output_type": "stream",
          "text": [
            "Collecting python-shogi\n",
            "\u001b[?25l  Downloading https://files.pythonhosted.org/packages/92/53/1ba3cd3fe2c8768eff1cdcb366140efcec502dde86be758af5f8d3c2a2e1/python-shogi-1.0.8.tar.gz (57kB)\n",
            "\u001b[K    100% |████████████████████████████████| 61kB 2.9MB/s \n",
            "\u001b[?25hBuilding wheels for collected packages: python-shogi\n",
            "  Running setup.py bdist_wheel for python-shogi ... \u001b[?25l-\b \bdone\n",
            "\u001b[?25h  Stored in directory: /root/.cache/pip/wheels/69/b9/84/0e16bfde4d5cc9365eecb8dfb357c780c4b4fba97d32d1ffb5\n",
            "Successfully built python-shogi\n",
            "Installing collected packages: python-shogi\n",
            "Successfully installed python-shogi-1.0.8\n"
          ],
          "name": "stdout"
        }
      ]
    },
    {
      "metadata": {
        "id": "kQy3GZM5UyjN",
        "colab_type": "code",
        "colab": {
          "base_uri": "https://localhost:8080/",
          "height": 794
        },
        "outputId": "2c435580-1cde-4a3e-e166-8b312ea5bdb3"
      },
      "cell_type": "code",
      "source": [
        "!date\n",
        "!python train_policy_value_resnet.py --use_tpu --batchsize 128 --epoch 1 --log log kifulist_train.txt kifulist_test.txt\n",
        "!date"
      ],
      "execution_count": 17,
      "outputs": [
        {
          "output_type": "stream",
          "text": [
            "Tue Dec 25 14:28:32 UTC 2018\n",
            "INFO:tensorflow:Querying Tensorflow master (b'grpc://10.32.107.106:8470') for TPU system metadata.\n",
            "2018-12-25 14:38:13.786018: W tensorflow/core/distributed_runtime/rpc/grpc_session.cc:349] GrpcSession::ListDevices will initialize the session with an empty graph and other defaults because the session has not yet been created.\n",
            "INFO:tensorflow:Found TPU system:\n",
            "INFO:tensorflow:*** Num TPU Cores: 8\n",
            "INFO:tensorflow:*** Num TPU Workers: 1\n",
            "INFO:tensorflow:*** Num TPU Cores Per Worker: 8\n",
            "INFO:tensorflow:*** Available Device: _DeviceAttributes(/job:worker/replica:0/task:0/device:CPU:0, CPU, -1, 9740888042528160426)\n",
            "INFO:tensorflow:*** Available Device: _DeviceAttributes(/job:worker/replica:0/task:0/device:XLA_CPU:0, XLA_CPU, 17179869184, 3495499813951980781)\n",
            "INFO:tensorflow:*** Available Device: _DeviceAttributes(/job:worker/replica:0/task:0/device:XLA_GPU:0, XLA_GPU, 17179869184, 1516167315408804991)\n",
            "INFO:tensorflow:*** Available Device: _DeviceAttributes(/job:worker/replica:0/task:0/device:TPU:0, TPU, 17179869184, 2496727000361373923)\n",
            "INFO:tensorflow:*** Available Device: _DeviceAttributes(/job:worker/replica:0/task:0/device:TPU:1, TPU, 17179869184, 18237630571597310645)\n",
            "INFO:tensorflow:*** Available Device: _DeviceAttributes(/job:worker/replica:0/task:0/device:TPU:2, TPU, 17179869184, 18240939830961320070)\n",
            "INFO:tensorflow:*** Available Device: _DeviceAttributes(/job:worker/replica:0/task:0/device:TPU:3, TPU, 17179869184, 5177550792458352902)\n",
            "INFO:tensorflow:*** Available Device: _DeviceAttributes(/job:worker/replica:0/task:0/device:TPU:4, TPU, 17179869184, 15141787209821213247)\n",
            "INFO:tensorflow:*** Available Device: _DeviceAttributes(/job:worker/replica:0/task:0/device:TPU:5, TPU, 17179869184, 9325619282646275392)\n",
            "INFO:tensorflow:*** Available Device: _DeviceAttributes(/job:worker/replica:0/task:0/device:TPU:6, TPU, 17179869184, 13471610573973916494)\n",
            "INFO:tensorflow:*** Available Device: _DeviceAttributes(/job:worker/replica:0/task:0/device:TPU:7, TPU, 17179869184, 8001193663049078517)\n",
            "INFO:tensorflow:*** Available Device: _DeviceAttributes(/job:worker/replica:0/task:0/device:TPU_SYSTEM:0, TPU_SYSTEM, 17179869184, 7802480380878342358)\n",
            "WARNING:tensorflow:tpu_model (from tensorflow.contrib.tpu.python.tpu.keras_support) is experimental and may change or be removed at any time, and without warning.\n",
            "2018-12-25 14:38:13.799293: I tensorflow/core/platform/cpu_feature_guard.cc:141] Your CPU supports instructions that this TensorFlow binary was not compiled to use: AVX2 FMA\n",
            "INFO:tensorflow:Connecting to: b'grpc://10.32.107.106:8470'\n",
            "Epoch 1/1\n",
            "INFO:tensorflow:New input shapes; (re-)compiling: mode=train, [TensorSpec(shape=(16, 104, 9, 9), dtype=tf.float32, name='input_10'), TensorSpec(shape=(16, 2187), dtype=tf.float32, name='policy_head_target_10'), TensorSpec(shape=(16, 1), dtype=tf.float32, name='value_head_target_10')]\n",
            "INFO:tensorflow:Overriding default placeholder.\n",
            "INFO:tensorflow:Remapping placeholder for input_1\n",
            "INFO:tensorflow:Cloning SGD {'lr': 0.0010000000474974513, 'momentum': 0.0, 'decay': 0.0, 'nesterov': False}\n",
            "INFO:tensorflow:Get updates: Tensor(\"loss/add:0\", shape=(), dtype=float32)\n",
            "INFO:tensorflow:Started compiling\n",
            "INFO:tensorflow:Finished compiling. Time elapsed: 11.257736921310425 secs\n",
            "INFO:tensorflow:Setting weights on TPU model.\n",
            "14878/14879 [============================>.] - ETA: 0s - loss: 2.2731 - policy_head_loss: 4.1834 - value_head_loss: 0.3628 - policy_head_acc: 0.1940 - value_head_acc: 0.5465INFO:tensorflow:New input shapes; (re-)compiling: mode=eval, [TensorSpec(shape=(16, 104, 9, 9), dtype=tf.float32, name='input_10'), TensorSpec(shape=(16, 2187), dtype=tf.float32, name='policy_head_target_10'), TensorSpec(shape=(16, 1), dtype=tf.float32, name='value_head_target_10')]\n",
            "INFO:tensorflow:Overriding default placeholder.\n",
            "INFO:tensorflow:Remapping placeholder for input_1\n",
            "INFO:tensorflow:Cloning SGD {'lr': 0.0010000000474974513, 'momentum': 0.0, 'decay': 0.0, 'nesterov': False}\n",
            "INFO:tensorflow:Started compiling\n",
            "INFO:tensorflow:Finished compiling. Time elapsed: 5.140713930130005 secs\n",
            "\n",
            "Epoch 00001: val_loss improved from inf to 1.83733, saving model to model/model_policy_value_resnet-best.hdf5\n",
            "INFO:tensorflow:Copying TPU weights to the CPU\n",
            "14879/14879 [==============================] - 2247s 151ms/step - loss: 2.2731 - policy_head_loss: 4.1834 - value_head_loss: 0.3628 - policy_head_acc: 0.1941 - value_head_acc: 0.5465 - val_loss: 1.8373 - val_policy_head_loss: 3.4424 - val_value_head_loss: 0.2322 - val_policy_head_acc: 0.2468 - val_value_head_acc: 0.5973\n",
            "INFO:tensorflow:Copying TPU weights to the CPU\n",
            "Tue Dec 25 15:16:07 UTC 2018\n"
          ],
          "name": "stdout"
        }
      ]
    },
    {
      "metadata": {
        "id": "uZLA-GNcQd1e",
        "colab_type": "code",
        "colab": {
          "base_uri": "https://localhost:8080/",
          "height": 316
        },
        "outputId": "2876e1a9-e984-4b04-bae9-1c9142ee1804"
      },
      "cell_type": "code",
      "source": [
        "!ls -l"
      ],
      "execution_count": 18,
      "outputs": [
        {
          "output_type": "stream",
          "text": [
            "total 1416\n",
            "drwxr-xr-x 2 root root    4096 Dec 25 14:27 bat\n",
            "-rw-r--r-- 1 root root    3111 Dec 25 14:27 DeepLearningShogi.pyproj\n",
            "-rw-r--r-- 1 root root     816 Dec 25 14:27 DeepLearningShogi.sln\n",
            "drwxr-xr-x 7 root root    4096 Dec 25 14:28 dlshogi\n",
            "-rw-r--r-- 1 root root  136614 Dec 25 14:28 kifulist_test.txt\n",
            "-rw-r--r-- 1 root root 1232477 Dec 25 14:28 kifulist_train.txt\n",
            "-rw-r--r-- 1 root root    4183 Dec 25 15:15 log\n",
            "drwxr-xr-x 2 root root    4096 Dec 25 14:27 model\n",
            "drwxr-xr-x 2 root root    4096 Dec 25 14:27 old\n",
            "-rw-r--r-- 1 root root    2970 Dec 25 14:27 README.md\n",
            "-rw-r--r-- 1 root root     154 Dec 25 14:27 setup.py\n",
            "-rw-r--r-- 1 root root    4408 Dec 25 14:27 train_policy.py\n",
            "-rw-r--r-- 1 root root    4717 Dec 25 14:27 train_policy_value.py\n",
            "-rw-r--r-- 1 root root    4781 Dec 25 14:27 train_policy_value_resnet.py\n",
            "-rw-r--r-- 1 root root    4377 Dec 25 14:27 train_value.py\n",
            "drwxr-xr-x 2 root root    4096 Dec 25 14:27 utils\n"
          ],
          "name": "stdout"
        }
      ]
    },
    {
      "metadata": {
        "id": "AbZHSYN222xg",
        "colab_type": "code",
        "colab": {
          "base_uri": "https://localhost:8080/",
          "height": 776
        },
        "outputId": "7c4c0e63-7e83-4489-f6d5-e1ad887c7624"
      },
      "cell_type": "code",
      "source": [
        "!cat log"
      ],
      "execution_count": 19,
      "outputs": [
        {
          "output_type": "stream",
          "text": [
            "2018/12/25 14:28:35\tDEBUG\tread kifu start\n",
            "2018/12/25 14:38:06\tDEBUG\tread kifu end\n",
            "2018/12/25 14:38:06\tINFO\ttrain position num = 1904579\n",
            "2018/12/25 14:38:06\tINFO\ttest position num = 211967\n",
            "2018/12/25 14:38:13\tINFO\tQuerying Tensorflow master (b'grpc://10.32.107.106:8470') for TPU system metadata.\n",
            "2018/12/25 14:38:13\tINFO\tFound TPU system:\n",
            "2018/12/25 14:38:13\tINFO\t*** Num TPU Cores: 8\n",
            "2018/12/25 14:38:13\tINFO\t*** Num TPU Workers: 1\n",
            "2018/12/25 14:38:13\tINFO\t*** Num TPU Cores Per Worker: 8\n",
            "2018/12/25 14:38:13\tINFO\t*** Available Device: _DeviceAttributes(/job:worker/replica:0/task:0/device:CPU:0, CPU, -1, 9740888042528160426)\n",
            "2018/12/25 14:38:13\tINFO\t*** Available Device: _DeviceAttributes(/job:worker/replica:0/task:0/device:XLA_CPU:0, XLA_CPU, 17179869184, 3495499813951980781)\n",
            "2018/12/25 14:38:13\tINFO\t*** Available Device: _DeviceAttributes(/job:worker/replica:0/task:0/device:XLA_GPU:0, XLA_GPU, 17179869184, 1516167315408804991)\n",
            "2018/12/25 14:38:13\tINFO\t*** Available Device: _DeviceAttributes(/job:worker/replica:0/task:0/device:TPU:0, TPU, 17179869184, 2496727000361373923)\n",
            "2018/12/25 14:38:13\tINFO\t*** Available Device: _DeviceAttributes(/job:worker/replica:0/task:0/device:TPU:1, TPU, 17179869184, 18237630571597310645)\n",
            "2018/12/25 14:38:13\tINFO\t*** Available Device: _DeviceAttributes(/job:worker/replica:0/task:0/device:TPU:2, TPU, 17179869184, 18240939830961320070)\n",
            "2018/12/25 14:38:13\tINFO\t*** Available Device: _DeviceAttributes(/job:worker/replica:0/task:0/device:TPU:3, TPU, 17179869184, 5177550792458352902)\n",
            "2018/12/25 14:38:13\tINFO\t*** Available Device: _DeviceAttributes(/job:worker/replica:0/task:0/device:TPU:4, TPU, 17179869184, 15141787209821213247)\n",
            "2018/12/25 14:38:13\tINFO\t*** Available Device: _DeviceAttributes(/job:worker/replica:0/task:0/device:TPU:5, TPU, 17179869184, 9325619282646275392)\n",
            "2018/12/25 14:38:13\tINFO\t*** Available Device: _DeviceAttributes(/job:worker/replica:0/task:0/device:TPU:6, TPU, 17179869184, 13471610573973916494)\n",
            "2018/12/25 14:38:13\tINFO\t*** Available Device: _DeviceAttributes(/job:worker/replica:0/task:0/device:TPU:7, TPU, 17179869184, 8001193663049078517)\n",
            "2018/12/25 14:38:13\tINFO\t*** Available Device: _DeviceAttributes(/job:worker/replica:0/task:0/device:TPU_SYSTEM:0, TPU_SYSTEM, 17179869184, 7802480380878342358)\n",
            "2018/12/25 14:38:13\tWARNING\ttpu_model (from tensorflow.contrib.tpu.python.tpu.keras_support) is experimental and may change or be removed at any time, and without warning.\n",
            "2018/12/25 14:38:14\tINFO\tConnecting to: b'grpc://10.32.107.106:8470'\n",
            "2018/12/25 14:38:21\tINFO\tTraining start\n",
            "2018/12/25 14:38:25\tINFO\tNew input shapes; (re-)compiling: mode=train, [TensorSpec(shape=(16, 104, 9, 9), dtype=tf.float32, name='input_10'), TensorSpec(shape=(16, 2187), dtype=tf.float32, name='policy_head_target_10'), TensorSpec(shape=(16, 1), dtype=tf.float32, name='value_head_target_10')]\n",
            "2018/12/25 14:38:25\tINFO\tOverriding default placeholder.\n",
            "2018/12/25 14:38:25\tINFO\tRemapping placeholder for input_1\n",
            "2018/12/25 14:38:34\tINFO\tCloning SGD {'lr': 0.0010000000474974513, 'momentum': 0.0, 'decay': 0.0, 'nesterov': False}\n",
            "2018/12/25 14:38:34\tINFO\tGet updates: Tensor(\"loss/add:0\", shape=(), dtype=float32)\n",
            "2018/12/25 14:38:36\tINFO\tStarted compiling\n",
            "2018/12/25 14:38:47\tINFO\tFinished compiling. Time elapsed: 11.257736921310425 secs\n",
            "2018/12/25 14:38:47\tINFO\tSetting weights on TPU model.\n",
            "2018/12/25 15:12:51\tINFO\tNew input shapes; (re-)compiling: mode=eval, [TensorSpec(shape=(16, 104, 9, 9), dtype=tf.float32, name='input_10'), TensorSpec(shape=(16, 2187), dtype=tf.float32, name='policy_head_target_10'), TensorSpec(shape=(16, 1), dtype=tf.float32, name='value_head_target_10')]\n",
            "2018/12/25 15:12:52\tINFO\tOverriding default placeholder.\n",
            "2018/12/25 15:12:52\tINFO\tRemapping placeholder for input_1\n",
            "2018/12/25 15:12:54\tINFO\tCloning SGD {'lr': 0.0010000000474974513, 'momentum': 0.0, 'decay': 0.0, 'nesterov': False}\n",
            "2018/12/25 15:12:55\tINFO\tStarted compiling\n",
            "2018/12/25 15:13:00\tINFO\tFinished compiling. Time elapsed: 5.140713930130005 secs\n",
            "2018/12/25 15:15:45\tINFO\tCopying TPU weights to the CPU\n",
            "2018/12/25 15:15:48\tINFO\tTraining end\n",
            "2018/12/25 15:15:48\tINFO\tCopying TPU weights to the CPU\n",
            "2018/12/25 15:15:52\tINFO\tDone\n"
          ],
          "name": "stdout"
        }
      ]
    },
    {
      "metadata": {
        "id": "BEIp_mRPAmNM",
        "colab_type": "code",
        "colab": {}
      },
      "cell_type": "code",
      "source": [
        "!mkdir -p \"/content/drive/My Drive/DeepLearningShogi/\"\n",
        "!cp -pr model* log* kifulist_* \"/content/drive/My Drive/DeepLearningShogi/\""
      ],
      "execution_count": 0,
      "outputs": []
    },
    {
      "metadata": {
        "id": "Ub3V0EZQxsnr",
        "colab_type": "code",
        "colab": {
          "base_uri": "https://localhost:8080/",
          "height": 105
        },
        "outputId": "534d3369-9d60-4b37-d2f9-7afa4f32d375"
      },
      "cell_type": "code",
      "source": [
        "!ls -l \"/content/drive/My Drive/DeepLearningShogi/\""
      ],
      "execution_count": 21,
      "outputs": [
        {
          "output_type": "stream",
          "text": [
            "total 1346\n",
            "-rw-------+ 1 root root  136614 Dec 25 14:28 kifulist_test.txt\n",
            "-rw-------+ 1 root root 1232477 Dec 25 14:28 kifulist_train.txt\n",
            "-rw-------+ 1 root root    4183 Dec 25 15:15 log\n",
            "drwx------+ 2 root root    4096 Dec 25 14:27 model\n"
          ],
          "name": "stdout"
        }
      ]
    },
    {
      "metadata": {
        "id": "guIouoBMAeUC",
        "colab_type": "text"
      },
      "cell_type": "markdown",
      "source": [
        ""
      ]
    }
  ]
}